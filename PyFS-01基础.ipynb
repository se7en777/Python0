{
 "cells": [
  {
   "cell_type": "markdown",
   "metadata": {},
   "source": [
    "# 环境安装\n",
    "- 推荐VM + Ubuntu\n",
    "- 套件推荐 Anaconda3 + pycharm"
   ]
  },
  {
   "cell_type": "code",
   "execution_count": 4,
   "metadata": {},
   "outputs": [
    {
     "name": "stdout",
     "output_type": "stream",
     "text": [
      "Hello World!\n"
     ]
    }
   ],
   "source": [
    "# 代码的作用\n",
    "# 1. 给人看\n",
    "# 2. 给机器看\n",
    "# 注释是纯给人看的\n",
    "print('Hello World!') #打印 Hello World"
   ]
  },
  {
   "cell_type": "markdown",
   "metadata": {},
   "source": [
    "# 注释\n",
    "- 机器不执行注释内容\n",
    "- 注释一般用自然语言书写 人话\n",
    "- 注释的写法：\n",
    "    - 行注释： 以#开头，可以单独行，也可以再代码后面\n",
    "    - 块注释： 好机会代码或者内容，以三个连续单引号或双引号开始和结束，中间任何内容机器都会忽略"
   ]
  },
  {
   "cell_type": "markdown",
   "metadata": {},
   "source": [
    "# 变量\n",
    "- 程序 = 数据结构 + 算法\n",
    "- 变量就是可以重复使用的一个量，或者一个代号\n",
    "- 变量命名的规则\n",
    "    - 变量命名可以包含数字，大小写字母，下划线或者更多，但是不推荐除了前三种之外的符号\n",
    "    - 不可以以数字开头\n",
    "        - 例如，4abc,3g 是不可以的\n",
    "        - abc4,g3是ok的\n",
    "    - 一般在Python中，以下划线开头的内容具有特殊含义，不推荐使用\n",
    "        - 例如，_age, _name，理论上没问题，但不推荐，包括一个或两个连续的下划线开头\n",
    "    - 大小写敏感\n",
    "        - Abc和abc不是同一个变量\n",
    "    - 建议的命名规则：\n",
    "        - 使用具有固定含义的英文单词或者缩写，缩写一般以posix命名规则为主\n",
    "        - 驼峰命名法\n",
    "            - 名称以单词自动连接，且每个单词首字母大写\n",
    "                - 大驼峰，每个单词第一个字母均大写\n",
    "                    - 在Python中给类命名使用此方法\n",
    "                    - 例如，MyFirstLab，IntOne\n",
    "                - 小驼峰，类似大驼峰，但第一个字母小写\n",
    "                    - 在Python中给普通变量或者函数命名使用此方法\n",
    "                    - 例如，myFirstLab，intOne\n",
    "                - posix命名规则\n",
    "                    - 多个单词用下划线连接\n",
    "                    - 单词全部小写\n",
    "                    - 例如，my_first_lab,int_one\n",
    "    - 保留字和关键字\n",
    "        - 变量名称必须避开保留字和关键字\n",
    "        - 例如，class, def, break, for, if"
   ]
  },
  {
   "cell_type": "code",
   "execution_count": 6,
   "metadata": {},
   "outputs": [
    {
     "name": "stdout",
     "output_type": "stream",
     "text": [
      "['False', 'None', 'True', 'and', 'as', 'assert', 'break', 'class', 'continue', 'def', 'del', 'elif', 'else', 'except', 'finally', 'for', 'from', 'global', 'if', 'import', 'in', 'is', 'lambda', 'nonlocal', 'not', 'or', 'pass', 'raise', 'return', 'try', 'while', 'with', 'yield']\n"
     ]
    }
   ],
   "source": [
    "# 查看关键字\n",
    "# 引入关键字模块\n",
    "import keyword\n",
    "# 打印全部关键字\n",
    "print(keyword.kwlist)"
   ]
  },
  {
   "cell_type": "markdown",
   "metadata": {},
   "source": [
    "## 变量声明\n",
    "- var_name = var_value\n",
    "- var1 = var2 = var3 = var_value\n",
    "- var1,var2,var3 = v1,v2,v3"
   ]
  },
  {
   "cell_type": "code",
   "execution_count": 8,
   "metadata": {},
   "outputs": [
    {
     "name": "stdout",
     "output_type": "stream",
     "text": [
      "18\n",
      "18\n"
     ]
    }
   ],
   "source": [
    "#定义变量age,把18放入变量age中\n",
    "age = 18\n",
    "print(age)\n",
    "print(18)"
   ]
  },
  {
   "cell_type": "code",
   "execution_count": 10,
   "metadata": {},
   "outputs": [
    {
     "name": "stdout",
     "output_type": "stream",
     "text": [
      "18\n",
      "18\n",
      "18\n",
      "18\n"
     ]
    }
   ],
   "source": [
    "#给age1,age2,age3让入统一的内容或者值\n",
    "age1 = age2 = age3 = 18\n",
    "print(age1)\n",
    "print(age2)\n",
    "print(age3)\n",
    "print(18)"
   ]
  },
  {
   "cell_type": "code",
   "execution_count": 12,
   "metadata": {},
   "outputs": [
    {
     "name": "stdout",
     "output_type": "stream",
     "text": [
      "14\n",
      "15\n",
      "16\n"
     ]
    }
   ],
   "source": [
    "#一行代码给多个变量赋值\n",
    "age4, age5, age6 = 14, 15, 16\n",
    "print(age4)\n",
    "print(age5)\n",
    "print(age6)"
   ]
  },
  {
   "cell_type": "markdown",
   "metadata": {},
   "source": [
    "## 变量的类型\n",
    "- 严格意义上讲，Python只有一个类型\n",
    "- 标准数据一共有六种\n",
    "    - 数字类型 number\n",
    "    - 字符串类型 str\n",
    "    - 列表 list\n",
    "    - 元组 tuple\n",
    "    - 字典 dict\n",
    "    - 集合 set"
   ]
  },
  {
   "cell_type": "markdown",
   "metadata": {},
   "source": [
    "## number数字类型\n",
    "    数字类型没有大小限制"
   ]
  },
  {
   "cell_type": "markdown",
   "metadata": {},
   "source": [
    "\n",
    "### 整数 int\n",
    "- 二进制\n",
    "    - 机算机常用，计算机唯一能直接理解的数字\n",
    "    - 表示为0b开头包含0、1的数字\n",
    "    - 例如，0b01101,0b10110\n",
    "- 八进制\n",
    "    - 以0o开头的包含0-7的数字\n",
    "- 十进制\n",
    "    - 略\n",
    "- 十六进制\n",
    "    - 以0x开头的包含0-9、a-f的数字\n"
   ]
  },
  {
   "cell_type": "code",
   "execution_count": 13,
   "metadata": {},
   "outputs": [
    {
     "name": "stdout",
     "output_type": "stream",
     "text": [
      "18\n"
     ]
    }
   ],
   "source": [
    "age = 18\n",
    "print(age)"
   ]
  },
  {
   "cell_type": "code",
   "execution_count": 14,
   "metadata": {},
   "outputs": [
    {
     "name": "stdout",
     "output_type": "stream",
     "text": [
      "18\n"
     ]
    }
   ],
   "source": [
    "age = 0b10010\n",
    "print(age)"
   ]
  },
  {
   "cell_type": "code",
   "execution_count": 17,
   "metadata": {},
   "outputs": [
    {
     "name": "stdout",
     "output_type": "stream",
     "text": [
      "18\n"
     ]
    }
   ],
   "source": [
    "age = 0o22\n",
    "print(age)"
   ]
  },
  {
   "cell_type": "code",
   "execution_count": 21,
   "metadata": {},
   "outputs": [
    {
     "name": "stdout",
     "output_type": "stream",
     "text": [
      "18\n"
     ]
    }
   ],
   "source": [
    "age = 0x12\n",
    "print(age)"
   ]
  },
  {
   "cell_type": "markdown",
   "metadata": {},
   "source": [
    "### 浮点数 float\n",
    "- 小数\n",
    "- 计算机中表示浮点数，可以有条件省略\n",
    "- 科学计数法 (用e/E后面跟证书表示10的指数)\n",
    "- 例如，3.14, 3., 0.5, .6, 1760.23 == 1.7623e3, 0.876 == 8.76e-1"
   ]
  },
  {
   "cell_type": "markdown",
   "metadata": {},
   "source": [
    "### 复数complex\n",
    "- 定义同数学中的复数一致，用j/J表示，例如，5+3j, 3j, (4j)\n",
    "- 略"
   ]
  },
  {
   "cell_type": "markdown",
   "metadata": {},
   "source": [
    "### 布尔值 bool\n",
    "- 表示真或者假\n",
    "- 只有两个值，True/False\n",
    "- 布尔值可以跟数字直接操作"
   ]
  },
  {
   "cell_type": "code",
   "execution_count": 27,
   "metadata": {},
   "outputs": [
    {
     "name": "stdout",
     "output_type": "stream",
     "text": [
      "19\n"
     ]
    }
   ],
   "source": [
    "#布尔值和数字操作\n",
    "age = 18 + True\n",
    "print(age)"
   ]
  },
  {
   "cell_type": "markdown",
   "metadata": {},
   "source": [
    "## 字符串\n",
    "- 用来表示一串文本信息\n",
    "- 表示方法\n",
    "    - 单引号\n",
    "    - 双引号\n",
    "    - 三引号（三个单引号或三个双引号）,可以表示多行\n",
    "    - 单双引号可以交替使用"
   ]
  },
  {
   "cell_type": "code",
   "execution_count": 36,
   "metadata": {},
   "outputs": [
    {
     "name": "stdout",
     "output_type": "stream",
     "text": [
      "hi hello hi\n"
     ]
    }
   ],
   "source": [
    "hi = 'hi hello hi'\n",
    "print(hi)"
   ]
  },
  {
   "cell_type": "code",
   "execution_count": 31,
   "metadata": {},
   "outputs": [
    {
     "name": "stdout",
     "output_type": "stream",
     "text": [
      "你好啊\n"
     ]
    }
   ],
   "source": [
    "hi = '你好啊'\n",
    "print(hi)"
   ]
  },
  {
   "cell_type": "code",
   "execution_count": 35,
   "metadata": {},
   "outputs": [
    {
     "ename": "SyntaxError",
     "evalue": "EOL while scanning string literal (<ipython-input-35-4afce2955dde>, line 1)",
     "output_type": "error",
     "traceback": [
      "\u001b[1;36m  File \u001b[1;32m\"<ipython-input-35-4afce2955dde>\"\u001b[1;36m, line \u001b[1;32m1\u001b[0m\n\u001b[1;33m    hi = 'hi\u001b[0m\n\u001b[1;37m             ^\u001b[0m\n\u001b[1;31mSyntaxError\u001b[0m\u001b[1;31m:\u001b[0m EOL while scanning string literal\n"
     ]
    }
   ],
   "source": [
    "hi = 'hi \n",
    "hello \n",
    "hi'\n",
    "print(hi)"
   ]
  },
  {
   "cell_type": "code",
   "execution_count": 36,
   "metadata": {},
   "outputs": [
    {
     "name": "stdout",
     "output_type": "stream",
     "text": [
      "hi \n",
      "hello \n",
      "hi\n"
     ]
    }
   ],
   "source": [
    "hi = '''hi \n",
    "hello \n",
    "hi'''\n",
    "print(hi)"
   ]
  },
  {
   "cell_type": "code",
   "execution_count": 34,
   "metadata": {},
   "outputs": [
    {
     "name": "stdout",
     "output_type": "stream",
     "text": [
      "hi = 'hi hello hi'\n"
     ]
    }
   ],
   "source": [
    "code = \"hi = 'hi hello hi'\"\n",
    "print(code)"
   ]
  },
  {
   "cell_type": "markdown",
   "metadata": {},
   "source": [
    "### 字符串的转义字符\n",
    "- 用特殊的方法表示出不无法写出的内容。例如，回车，换行，退格键\n",
    "- 用\\反斜杠字符，\\后面的字符被转义\n",
    "- 不同系统对换行操作有不同的表示\n",
    "    - Windows： \\n换行\n",
    "    - Linux： \\r\\n表示换行\n",
    "- 格式化\n",
    "- 内建函数"
   ]
  },
  {
   "cell_type": "code",
   "execution_count": 4,
   "metadata": {},
   "outputs": [
    {
     "name": "stdout",
     "output_type": "stream",
     "text": [
      "Let's go\n",
      "Let's go\n"
     ]
    }
   ],
   "source": [
    "#打印出Let's go\n",
    "#1. 可以用嵌套引号，即外层使用双引号\n",
    "#2. 使用 \\‘ 表示 ’\n",
    "s = \"Let's go\"\n",
    "print(s)\n",
    "s1 = 'Let\\'s go'\n",
    "print(s1)"
   ]
  },
  {
   "cell_type": "code",
   "execution_count": 3,
   "metadata": {},
   "outputs": [
    {
     "name": "stdout",
     "output_type": "stream",
     "text": [
      "Let\\s go\n",
      "c:\\users\n"
     ]
    }
   ],
   "source": [
    "#使用\\\\表示出\\\n",
    "s2 = 'Let\\\\s go'\n",
    "print(s2)\n",
    "s3 = 'c:\\\\users'\n",
    "print (s3)"
   ]
  },
  {
   "cell_type": "code",
   "execution_count": 8,
   "metadata": {},
   "outputs": [
    {
     "name": "stdout",
     "output_type": "stream",
     "text": [
      "你好\r\n",
      "啊\n",
      "你好\n",
      "啊\n"
     ]
    }
   ],
   "source": [
    "#使用\\r\\n或者\\n表示回车换行符\n",
    "s1 = '你好\\r\\n啊'\n",
    "print(s1)\n",
    "s2 = '你好\\n啊'\n",
    "print(s2)"
   ]
  },
  {
   "cell_type": "markdown",
   "metadata": {},
   "source": [
    "### 字符串的格式化\n",
    "- 把字符串按照一定的格式打印或者填充\n",
    "- 格式化的两种方法\n",
    "    - 使用百分号 %\n",
    "    - 使用format函数"
   ]
  },
  {
   "cell_type": "markdown",
   "metadata": {},
   "source": [
    "### 使用百分号%格式化字符串\n",
    "- %d：表示整数格式\n",
    "- %s：表示字符串格式"
   ]
  },
  {
   "cell_type": "code",
   "execution_count": 20,
   "metadata": {},
   "outputs": [
    {
     "name": "stdout",
     "output_type": "stream",
     "text": [
      "你好，%s。\n"
     ]
    }
   ],
   "source": [
    "s = '你好，%s。'\n",
    "print(s)"
   ]
  },
  {
   "cell_type": "code",
   "execution_count": 21,
   "metadata": {},
   "outputs": [
    {
     "name": "stdout",
     "output_type": "stream",
     "text": [
      "你好，七仔。\n"
     ]
    }
   ],
   "source": [
    "print(s%'七仔')"
   ]
  },
  {
   "cell_type": "code",
   "execution_count": 25,
   "metadata": {},
   "outputs": [
    {
     "name": "stdout",
     "output_type": "stream",
     "text": [
      "I am 17 years old.\n",
      "I am 18 years old.\n",
      "I am 20 years old.\n"
     ]
    }
   ],
   "source": [
    "a = 'I am %d years old.'\n",
    "print(a%17)\n",
    "print(a%18.9)\n",
    "print(a%20.1)"
   ]
  },
  {
   "cell_type": "code",
   "execution_count": 31,
   "metadata": {},
   "outputs": [
    {
     "name": "stdout",
     "output_type": "stream",
     "text": [
      "I am Seven, and i am 18 years old.\n"
     ]
    }
   ],
   "source": [
    "# 如果出现多个占位符，则相应内容需要用括号括起来\n",
    "s = 'I am %s, and i am %d years old.'\n",
    "print(s%('Seven',18))"
   ]
  },
  {
   "cell_type": "markdown",
   "metadata": {},
   "source": [
    "### 使用format函数格式化字符串\n",
    "- 建议使用format函数进行字符串格式化\n",
    "- 在使用上，以{}和：代理%，后面用format带参数完成"
   ]
  },
  {
   "cell_type": "code",
   "execution_count": 32,
   "metadata": {},
   "outputs": [
    {
     "name": "stdout",
     "output_type": "stream",
     "text": [
      "你好，若期。\n"
     ]
    }
   ],
   "source": [
    "s = '你好，{}。'.format('若期')\n",
    "print(s)"
   ]
  },
  {
   "cell_type": "code",
   "execution_count": 35,
   "metadata": {},
   "outputs": [
    {
     "name": "stdout",
     "output_type": "stream",
     "text": [
      "I am Seven, and i am 18 years old. \r\n",
      "--Seven\n"
     ]
    }
   ],
   "source": [
    "# 使用多个大括号{}表示多个需要填充的字段，顺序按照0开始的索引顺序\n",
    "s = 'I am {1}, and i am {0} years old. \\r\\n--{1}'.format(18,'Seven')\n",
    "print(s)"
   ]
  },
  {
   "cell_type": "markdown",
   "metadata": {},
   "source": [
    "## None\n",
    "- 表示空，什么都没有\n",
    "- 如果函数没有返回值，可以返回None。\n",
    "- 可以用来占位\n",
    "- 可以用来解除变量的绑定"
   ]
  },
  {
   "cell_type": "markdown",
   "metadata": {},
   "source": [
    "# 表达式\n",
    "- 由一个或者多个数字或变量和运算符组成的一行代码\n",
    "- 通常会返回一个结果\n",
    "\n",
    "# 运算符\n",
    "- 运算符分类：\n",
    "    - 算数运算符\n",
    "    - 比较或者关系运算符\n",
    "    - 赋值运算符\n",
    "    - 逻辑运算符\n",
    "    - 位运算\n",
    "    - 成员运算符\n",
    "    - 身份运算符"
   ]
  },
  {
   "cell_type": "markdown",
   "metadata": {},
   "source": [
    "## 算数运算符\n",
    "- 加 == +，减 == -，乘 == *，除 == /，取余 == %，取整 == //，乘方运算 == **，"
   ]
  },
  {
   "cell_type": "code",
   "execution_count": 37,
   "metadata": {},
   "outputs": [
    {
     "data": {
      "text/plain": [
       "2"
      ]
     },
     "execution_count": 37,
     "metadata": {},
     "output_type": "execute_result"
    }
   ],
   "source": [
    "1 + 1"
   ]
  },
  {
   "cell_type": "code",
   "execution_count": 38,
   "metadata": {},
   "outputs": [
    {
     "data": {
      "text/plain": [
       "2"
      ]
     },
     "execution_count": 38,
     "metadata": {},
     "output_type": "execute_result"
    }
   ],
   "source": [
    "5 - 3"
   ]
  },
  {
   "cell_type": "code",
   "execution_count": 39,
   "metadata": {},
   "outputs": [
    {
     "data": {
      "text/plain": [
       "20"
      ]
     },
     "execution_count": 39,
     "metadata": {},
     "output_type": "execute_result"
    }
   ],
   "source": [
    "4 * 5"
   ]
  },
  {
   "cell_type": "code",
   "execution_count": 43,
   "metadata": {},
   "outputs": [
    {
     "data": {
      "text/plain": [
       "2.0"
      ]
     },
     "execution_count": 43,
     "metadata": {},
     "output_type": "execute_result"
    }
   ],
   "source": [
    "6 / 3"
   ]
  },
  {
   "cell_type": "code",
   "execution_count": 44,
   "metadata": {},
   "outputs": [
    {
     "data": {
      "text/plain": [
       "1"
      ]
     },
     "execution_count": 44,
     "metadata": {},
     "output_type": "execute_result"
    }
   ],
   "source": [
    "9 % 4"
   ]
  },
  {
   "cell_type": "code",
   "execution_count": 45,
   "metadata": {},
   "outputs": [
    {
     "data": {
      "text/plain": [
       "3"
      ]
     },
     "execution_count": 45,
     "metadata": {},
     "output_type": "execute_result"
    }
   ],
   "source": [
    "10 // 3"
   ]
  },
  {
   "cell_type": "code",
   "execution_count": 46,
   "metadata": {},
   "outputs": [
    {
     "data": {
      "text/plain": [
       "1000"
      ]
     },
     "execution_count": 46,
     "metadata": {},
     "output_type": "execute_result"
    }
   ],
   "source": [
    "10 ** 3"
   ]
  },
  {
   "cell_type": "markdown",
   "metadata": {},
   "source": [
    "## 比较运算符\n",
    "- 对两个变量 或者值 进行比较的运算符\n",
    "- 比较的结果是布尔值，即True或False\n",
    "- 例如，等于/==，不等于/!=，大于>，小于<,大于等于>=，小于等于<="
   ]
  },
  {
   "cell_type": "code",
   "execution_count": 51,
   "metadata": {},
   "outputs": [
    {
     "name": "stdout",
     "output_type": "stream",
     "text": [
      "True\n"
     ]
    }
   ],
   "source": [
    "a = 8 * 10\n",
    "#先进行右侧代码，算出'a == 80'的值为'True'，然后再把‘True’赋值给变量‘b’\n",
    "b = a == 80\n",
    "print(b)"
   ]
  },
  {
   "cell_type": "code",
   "execution_count": 55,
   "metadata": {},
   "outputs": [
    {
     "name": "stdout",
     "output_type": "stream",
     "text": [
      "False\n"
     ]
    }
   ],
   "source": [
    "#同样，先算出右侧'9 != 9'的值为'False'，然后再把‘False’赋值给变量‘b’\n",
    "b = 9 != 9\n",
    "print(b)"
   ]
  },
  {
   "cell_type": "code",
   "execution_count": 56,
   "metadata": {},
   "outputs": [
    {
     "name": "stdout",
     "output_type": "stream",
     "text": [
      "False\n"
     ]
    }
   ],
   "source": [
    "print(1>2)"
   ]
  },
  {
   "cell_type": "code",
   "execution_count": 57,
   "metadata": {},
   "outputs": [
    {
     "name": "stdout",
     "output_type": "stream",
     "text": [
      "True\n"
     ]
    }
   ],
   "source": [
    "print(3<5)"
   ]
  },
  {
   "cell_type": "code",
   "execution_count": 58,
   "metadata": {},
   "outputs": [
    {
     "name": "stdout",
     "output_type": "stream",
     "text": [
      "True\n"
     ]
    }
   ],
   "source": [
    "print(7>=7)"
   ]
  },
  {
   "cell_type": "code",
   "execution_count": 59,
   "metadata": {},
   "outputs": [
    {
     "name": "stdout",
     "output_type": "stream",
     "text": [
      "False\n"
     ]
    }
   ],
   "source": [
    "print(9<=3)"
   ]
  },
  {
   "cell_type": "markdown",
   "metadata": {},
   "source": [
    "## 赋值运算符\n",
    "- 赋值/=\n",
    "- 运算符缩写，所有数学运算符都可以使用此缩写方式\n",
    "    - +=，例如，a += 7，即a = a + 7\n",
    "    - -=，-=，*=，/=，%=，//=，**= 等"
   ]
  },
  {
   "cell_type": "code",
   "execution_count": 63,
   "metadata": {},
   "outputs": [
    {
     "name": "stdout",
     "output_type": "stream",
     "text": [
      "8\n"
     ]
    }
   ],
   "source": [
    "a = 1    #a赋值1\n",
    "a += 7    #即 a = a + 7，也就是 a = 1 + 7\n",
    "print(a)"
   ]
  },
  {
   "cell_type": "code",
   "execution_count": 66,
   "metadata": {},
   "outputs": [
    {
     "name": "stdout",
     "output_type": "stream",
     "text": [
      "6\n"
     ]
    }
   ],
   "source": [
    "a = 2    #a赋值2\n",
    "a *= 3    #即 a = a * 3，也就是 a = 2 * 3\n",
    "print(a)"
   ]
  },
  {
   "cell_type": "markdown",
   "metadata": {},
   "source": [
    "# 逻辑运算符\n",
    "- 对布尔值进行计算的符号\n",
    "- 例如，逻辑与/and，逻辑或/or，逻辑非/not\n",
    "- Python的逻辑运算中没有异或运算\n",
    "- 运算规则：\n",
    "    - and可以看作*，or可以看作+\n",
    "    - True可以看作1，False可以看作0\n",
    "    - 将逻辑运算转换成数学运算，最后输出结果为0则为False，为1则为Ture\n",
    "- 逻辑运算的短路问题\n",
    "    - 逻辑运算式，按照运算顺序计算，一旦能够确定整个运算式的值，则不再进行后续计算，直接返回值.\n",
    "    - 例如，a = True or x x x x x x，运行True or即可确定最终值为True。"
   ]
  },
  {
   "cell_type": "code",
   "execution_count": 3,
   "metadata": {},
   "outputs": [
    {
     "name": "stdout",
     "output_type": "stream",
     "text": [
      "True\n",
      "True\n"
     ]
    }
   ],
   "source": [
    "#逻辑运算转算数运算例子\n",
    "a = True\n",
    "b = False\n",
    "c = True\n",
    "d = a and b or c    #如果转换成数学运算，d = 1 * 0 + 1，即结果为 1\n",
    "print(d)\n",
    "\n",
    "d = a or b and a    #如果转换成数学运算，d = 1 + 0 * 1，即结果为 1\n",
    "print(d)"
   ]
  },
  {
   "cell_type": "markdown",
   "metadata": {},
   "source": [
    "# 成员运算符\n",
    "- 用来检测一个变量是否是另一个变量的成员\n",
    "- 语法为 in ， not in"
   ]
  },
  {
   "cell_type": "code",
   "execution_count": 5,
   "metadata": {},
   "outputs": [
    {
     "name": "stdout",
     "output_type": "stream",
     "text": [
      "True\n",
      "False\n"
     ]
    }
   ],
   "source": [
    "l = [1,2,3,4,5,6,7]\n",
    "a = 7\n",
    "b = a in l\n",
    "print(b)\n",
    "print(a not in l)"
   ]
  },
  {
   "cell_type": "markdown",
   "metadata": {},
   "source": [
    "# 身份运算符\n",
    "- 用来检测两个变量是否是同一个变量\n",
    "- 语法为 is，is not"
   ]
  },
  {
   "cell_type": "code",
   "execution_count": 11,
   "metadata": {},
   "outputs": [
    {
     "name": "stdout",
     "output_type": "stream",
     "text": [
      "True\n",
      "True\n"
     ]
    }
   ],
   "source": [
    "a = 7\n",
    "b = 7\n",
    "print(a is b)\n",
    "a = b = 'ni hao'\n",
    "print(a is b)"
   ]
  },
  {
   "cell_type": "code",
   "execution_count": 8,
   "metadata": {},
   "outputs": [
    {
     "name": "stdout",
     "output_type": "stream",
     "text": [
      "False\n"
     ]
    }
   ],
   "source": [
    "#内容虽然一样，但是不是同一个变量\n",
    "a = 'ni hao'\n",
    "b = 'ni hao'\n",
    "print(a is b)\n",
    "a = [1,2,3]\n",
    "b = [1,2,3]\n",
    "print(a is b)"
   ]
  },
  {
   "cell_type": "markdown",
   "metadata": {},
   "source": [
    "# 运算符的优先级-求值顺序\n",
    "- 括号拥有最高优先级\n",
    "- 优先级顺序\n",
    "    * lambda ：Lambda 表达式\n",
    "    * if - else ：条件表达式\n",
    "    * or ：布尔“或”\n",
    "    * and ：布尔“与”\n",
    "    * not x ：布尔“非”\n",
    "    * in, not in, is, is not, <, <=, >, >=, !=, == ：比较，包括成员资格测试\n",
    "    * （Membership Tests）和身份测试（Identity Tests）。\n",
    "    * | ：按位或\n",
    "    * ^ ：按位异或\n",
    "    * & ：按位与\n",
    "    * <<, >> ：移动\n",
    "    * +, - ：加与减\n",
    "    * *, /, //, % ：乘、除、整除、取余\n",
    "    * +x, -x, ~x ：正、负、按位取反\n",
    "    * ** ：求幂\n",
    "    * 8\n",
    "    * 运算符与表达式\n",
    "    * 47\n",
    "    * x[index], x[index:index], x(arguments...), x.attribute ：下标、切片、调用、属性引\n",
    "    * 用\n",
    "    * (expressions...), [expressions...], {key: value...}, {expressions...} ：表示绑定或元\n",
    "    * 组、表示列表、表示字典、表示集合"
   ]
  },
  {
   "cell_type": "code",
   "execution_count": null,
   "metadata": {},
   "outputs": [],
   "source": []
  }
 ],
 "metadata": {
  "kernelspec": {
   "display_name": "Python 3",
   "language": "python",
   "name": "python3"
  },
  "language_info": {
   "codemirror_mode": {
    "name": "ipython",
    "version": 3
   },
   "file_extension": ".py",
   "mimetype": "text/x-python",
   "name": "python",
   "nbconvert_exporter": "python",
   "pygments_lexer": "ipython3",
   "version": "3.6.5"
  }
 },
 "nbformat": 4,
 "nbformat_minor": 2
}
