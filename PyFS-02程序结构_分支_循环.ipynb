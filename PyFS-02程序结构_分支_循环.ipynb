{
 "cells": [
  {
   "cell_type": "markdown",
   "metadata": {},
   "source": [
    "# 程序结构\n",
    "- 顺序\n",
    "- 分支\n",
    "- 循环"
   ]
  },
  {
   "cell_type": "markdown",
   "metadata": {},
   "source": [
    "## 分支\n",
    "- 语法： \n",
    "        if 条件表达式:\n",
    "            语句1\n",
    "            语句2\n",
    "            ...\n",
    "- 条件表达式即计算结果必须为布尔值\n",
    "- 如果同属于同一if语句块，则必须具有相同缩进等级；    注意冒号:\n",
    "- 条件表达式结果为True，则执行if ：后面的缩进语句块内容"
   ]
  },
  {
   "cell_type": "code",
   "execution_count": 11,
   "metadata": {},
   "outputs": [
    {
     "name": "stdout",
     "output_type": "stream",
     "text": [
      "可以开车了\n"
     ]
    }
   ],
   "source": [
    "age = 19\n",
    "if age < 18:\n",
    "    print('时间还没到')\n",
    "print('可以开车了')"
   ]
  },
  {
   "cell_type": "markdown",
   "metadata": {},
   "source": [
    "## 双向分支\n",
    "- 即if...else...语句\n",
    "        if 条件表达式:\n",
    "            语句1\n",
    "            语句2\n",
    "            ...\n",
    "        else:\n",
    "            语句1\n",
    "            语句2\n",
    "            ...\n",
    "- if...else...语句必须执行且仅执行if...或者else...其中一个\n",
    "- 注意缩进    注意冒号:"
   ]
  },
  {
   "cell_type": "code",
   "execution_count": 2,
   "metadata": {},
   "outputs": [
    {
     "name": "stdout",
     "output_type": "stream",
     "text": [
      "请输入你的性别：1\n",
      "你输入的性别是：1\n",
      "诸君拔刀吧\n",
      "开玩笑的...\n"
     ]
    }
   ],
   "source": [
    "#input函数的作用\n",
    "#1. 在屏幕上输出括号内的字符串，可以为空，即不输出任何内容。\n",
    "#2. 接收用户输入的内容并返回到程序，注意格式为字符串类型。\n",
    "gender = input('请输入你的性别：')\n",
    "print('你输入的性别是：{}'.format(gender))\n",
    "nan = ['nan','男','man','male','1','汉字','雄性','公']\n",
    "if gender in nan:\n",
    "    print('诸君拔刀吧')\n",
    "else:\n",
    "    print('嘿嘿不错哦')\n",
    "print('开玩笑的...')"
   ]
  },
  {
   "cell_type": "markdown",
   "metadata": {},
   "source": [
    "## 多向分支\n",
    "- 语法\n",
    "        if 条件表达式:\n",
    "            语句1\n",
    "            ...\n",
    "        elif 条件表达式:\n",
    "            语句1\n",
    "            ...\n",
    "        elif 条件表达式:\n",
    "            语句1\n",
    "            ...\n",
    "        ...\n",
    "        else:\n",
    "            语句1\n",
    "            ...\n",
    "- elif可以有很多个，末尾的else可选\n",
    "- 多向分支中，只会选择一个执行"
   ]
  },
  {
   "cell_type": "code",
   "execution_count": 103,
   "metadata": {},
   "outputs": [
    {
     "name": "stdout",
     "output_type": "stream",
     "text": [
      "请输入你的成绩分数：77\n",
      "C\n",
      "谢谢使用\n"
     ]
    }
   ],
   "source": [
    "#思路，接收输入\n",
    "#if...是q退出\n",
    "#else...\n",
    "    #try...将输入的字符串scpre转换为int(score)\n",
    "        #if...elif...else...根据条件打印对应输出\n",
    "    #异常处理,及打印相关输出\n",
    "score = input('请输入你的成绩分数：')\n",
    "if score == 'q':\n",
    "    print('你已退出程序')\n",
    "#score = int(score)\n",
    "else:\n",
    "    try:\n",
    "        score = int(score)\n",
    "        if score > 100:\n",
    "            print('抱歉，你走错片场了，这里满分100。')\n",
    "        elif score < 0:\n",
    "            print ('你是不是欠你数学老师分？\\r\\n快走，我来按住你数学老师的棺材板。')\n",
    "        elif score >= 90:\n",
    "            print ('A')\n",
    "        elif score >= 80:\n",
    "            print ('B')\n",
    "        elif score >= 70:\n",
    "            print ('C')\n",
    "        elif score >= 60:\n",
    "            print ('D')\n",
    "        elif score < 60:\n",
    "            print ('X')\n",
    "        else:\n",
    "            print('无法为你评分')\n",
    "    except ValueError:\n",
    "        print('ValueError:输入无效，请重新输入数字')\n",
    "    except Exception:\n",
    "        print('未知错误，程序已终止')\n",
    "    finally:\n",
    "        print('谢谢使用')\n"
   ]
  },
  {
   "cell_type": "markdown",
   "metadata": {},
   "source": [
    "# 循环语句\n",
    "- for...循环\n",
    "- while...循环\n",
    "## for循环\n",
    "- 语法\n",
    "        for 变量 in 序列:\n",
    "            语句1\n",
    "            语句2\n",
    "            ...\n",
    "        (else...可选)\n",
    "## range函数\n",
    "- 生成一个数字序列，范围可以指定，若没有指定序列开始的值，则认为从0开始，最右侧的值不会被取到\n",
    "- 例如range(-5,5)，则5不会被取到；range(10)，即range(0-10)"
   ]
  },
  {
   "cell_type": "code",
   "execution_count": 9,
   "metadata": {},
   "outputs": [
    {
     "name": "stdout",
     "output_type": "stream",
     "text": [
      "星期一\n",
      "身心疲惫的星期一\n",
      "星期二\n",
      "星期三\n",
      "星期四\n",
      "星期五\n",
      "星期六\n",
      "星期日\n",
      "这周就算结束了\n"
     ]
    }
   ],
   "source": [
    "# 使用for循环打印列表中的内容\n",
    "    # 再根据条件进行分支判断\n",
    "l = ['星期一','星期二','星期三','星期四','星期五','星期六','星期日']\n",
    "for a in l:\n",
    "    print(a)\n",
    "    if a == '星期一':\n",
    "        print('身心疲惫的{}'.format(a))\n",
    "    else:\n",
    "        continue\n",
    "#for循环的else...语句可选，表示循环结束后需要执行的语句\n",
    "else:\n",
    "    print('这周就算结束了')"
   ]
  },
  {
   "cell_type": "code",
   "execution_count": 5,
   "metadata": {},
   "outputs": [
    {
     "name": "stdout",
     "output_type": "stream",
     "text": [
      "-3\n",
      "-2\n",
      "-1\n",
      "0\n",
      "1\n",
      "2\n"
     ]
    }
   ],
   "source": [
    "for i in range(-3,3):\n",
    "    print(i)"
   ]
  },
  {
   "cell_type": "code",
   "execution_count": 7,
   "metadata": {},
   "outputs": [
    {
     "name": "stdout",
     "output_type": "stream",
     "text": [
      "0\n",
      "1\n",
      "2\n",
      "3\n",
      "4\n"
     ]
    }
   ],
   "source": [
    "for i in range (5):\n",
    "    print(i)"
   ]
  },
  {
   "cell_type": "markdown",
   "metadata": {},
   "source": [
    "## 循环的break, continue, pass\n",
    "- break,无条件终止整个循环\n",
    "- continue, 无条件终止本次循环\n",
    "- pass, 表示略过pass这个代码,一般用于占位"
   ]
  },
  {
   "cell_type": "code",
   "execution_count": 11,
   "metadata": {},
   "outputs": [
    {
     "name": "stdout",
     "output_type": "stream",
     "text": [
      "找到个1,但不是我想要的\n",
      "找到个2,但不是我想要的\n",
      "找到个3,但不是我想要的\n",
      "找到个4,但不是我想要的\n",
      "找到个5,但不是我想要的\n",
      "找到个6,但不是我想要的\n",
      "找到了,就是你\n"
     ]
    }
   ],
   "source": [
    "# 在数字1-10中,寻找数字7,找到后打印相应输出并结束循环\n",
    "for i in range(1,11):\n",
    "    if i == 7:\n",
    "        print('找到了,就是你')\n",
    "        break\n",
    "    else:\n",
    "        print('找到个{},但不是我想要的'.format(i))"
   ]
  },
  {
   "cell_type": "code",
   "execution_count": 20,
   "metadata": {},
   "outputs": [
    {
     "name": "stdout",
     "output_type": "stream",
     "text": [
      "偶数2\n",
      "偶数4\n",
      "偶数6\n",
      "偶数8\n",
      "偶数10\n"
     ]
    }
   ],
   "source": [
    "# 在数字1-10中,打印偶数\n",
    "for i in range(1,10+1):\n",
    "    if i%2 == 1:\n",
    "        continue\n",
    "    else:\n",
    "        print('偶数{}'.format(i))"
   ]
  },
  {
   "cell_type": "code",
   "execution_count": 21,
   "metadata": {},
   "outputs": [
    {
     "name": "stdout",
     "output_type": "stream",
     "text": [
      "pass不影响同一缩进等级其他语句的执行1\n",
      "pass不影响同一缩进等级其他语句的执行2\n"
     ]
    }
   ],
   "source": [
    "# pass占位,略过自己pass这个代码,但不影响同一缩进块的语句执行\n",
    "for i in range(1,3):\n",
    "    pass\n",
    "    print('pass不影响同一缩进等级其他语句的执行{}'.format(i))"
   ]
  },
  {
   "cell_type": "markdown",
   "metadata": {},
   "source": [
    "# while循环\n",
    "- 表示条件成立时,就执行循环,不限定循环次数\n",
    "- 语法:\n",
    "        while 条件表达式:\n",
    "            语句1\n",
    "            语句2\n",
    "            ..."
   ]
  },
  {
   "cell_type": "code",
   "execution_count": 22,
   "metadata": {},
   "outputs": [],
   "source": [
    "#年利率为5.7%,本金1W块,多久可以打到本金翻本变为2W"
   ]
  },
  {
   "cell_type": "code",
   "execution_count": 23,
   "metadata": {},
   "outputs": [
    {
     "name": "stdout",
     "output_type": "stream",
     "text": [
      "第1年,本息一共有10570.0\n",
      "第2年,本息一共有11172.49\n",
      "第3年,本息一共有11809.321929999998\n",
      "第4年,本息一共有12482.453280009997\n",
      "第5年,本息一共有13193.953116970566\n",
      "第6年,本息一共有13946.008444637888\n",
      "第7年,本息一共有14740.930925982246\n",
      "第8年,本息一共有15581.163988763234\n",
      "第9年,本息一共有16469.290336122736\n",
      "第10年,本息一共有17408.03988528173\n",
      "第11年,本息一共有18400.29815874279\n",
      "第12年,本息一共有19449.11515379113\n",
      "第13年,本息一共有20557.71471755722\n"
     ]
    }
   ],
   "source": [
    "money = 10000\n",
    "year = 0\n",
    "while money <= 20000:\n",
    "    money = money * (1+0.057)\n",
    "    year = year + 1\n",
    "    print('第{}年,本息一共有{}'.format(year,money))"
   ]
  },
  {
   "cell_type": "code",
   "execution_count": null,
   "metadata": {},
   "outputs": [],
   "source": []
  }
 ],
 "metadata": {
  "kernelspec": {
   "display_name": "Python 3",
   "language": "python",
   "name": "python3"
  },
  "language_info": {
   "codemirror_mode": {
    "name": "ipython",
    "version": 3
   },
   "file_extension": ".py",
   "mimetype": "text/x-python",
   "name": "python",
   "nbconvert_exporter": "python",
   "pygments_lexer": "ipython3",
   "version": "3.6.5"
  }
 },
 "nbformat": 4,
 "nbformat_minor": 2
}
